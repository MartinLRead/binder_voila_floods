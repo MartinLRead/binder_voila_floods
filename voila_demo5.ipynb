{
 "cells": [
  {
   "cell_type": "code",
   "execution_count": 5,
   "id": "b83a7f2c-15c3-4c02-b91c-2016bc0b11f3",
   "metadata": {},
   "outputs": [
    {
     "data": {
      "application/vnd.jupyter.widget-view+json": {
       "model_id": "b326eaeb9af5456981d4e5252b76500b",
       "version_major": 2,
       "version_minor": 0
      },
      "text/plain": [
       "IntRangeSlider(value=(2015, 2020), description='Years:', max=2025, min=1985)"
      ]
     },
     "metadata": {},
     "output_type": "display_data"
    },
    {
     "data": {
      "application/vnd.jupyter.widget-view+json": {
       "model_id": "868f9ea0df7d4a8b8afc2a3333ce924e",
       "version_major": 2,
       "version_minor": 0
      },
      "text/plain": [
       "Output()"
      ]
     },
     "metadata": {},
     "output_type": "display_data"
    },
    {
     "data": {
      "application/vnd.jupyter.widget-view+json": {
       "model_id": "077008aac1374f609439b45ee67165e0",
       "version_major": 2,
       "version_minor": 0
      },
      "text/plain": [
       "Output()"
      ]
     },
     "metadata": {},
     "output_type": "display_data"
    },
    {
     "data": {
      "application/vnd.jupyter.widget-view+json": {
       "model_id": "1244fe336f32412685257b31ec42c615",
       "version_major": 2,
       "version_minor": 0
      },
      "text/plain": [
       "Output()"
      ]
     },
     "metadata": {},
     "output_type": "display_data"
    },
    {
     "data": {
      "application/vnd.jupyter.widget-view+json": {
       "model_id": "3f6c328514994840949d385bee8d0ac6",
       "version_major": 2,
       "version_minor": 0
      },
      "text/plain": [
       "Output()"
      ]
     },
     "metadata": {},
     "output_type": "display_data"
    }
   ],
   "source": [
    "from IPython.display import clear_output, display, HTML\n",
    "from ipywidgets import widgets, Output, VBox, HBox\n",
    "import plotly.express as px\n",
    "import pandas as pd\n",
    "\n",
    "# Load the dataset\n",
    "df = pd.read_excel('FloodArchive.xlsx')\n",
    "df['Year'] = pd.to_datetime(df['Began']).dt.year\n",
    "\n",
    "# Display footer content\n",
    "html_content1 = \"\"\"\n",
    "<center style=\"color:black; font-size: 150%;\"> World Wide Floods Dashboard </center>\n",
    "\"\"\"\n",
    "html_content2 = \"\"\"\n",
    "<center><img src=\"Dartmouth-Boulder.png\"/></center>\n",
    "<center><b> Global Active Archive of Large Flood Events, 1985-Present. Dartmouth Flood Observatory, University of Colorado, USA.</b></center>\n",
    "\"\"\"\n",
    "\n",
    "# Define the widget\n",
    "year_widget1 = widgets.IntRangeSlider(value=[2015, 2020], min=1985, max=2025, step=1, description='Years:')\n",
    "\n",
    "# Create Output widgets\n",
    "output_geo = Output()\n",
    "output_bar1 = Output()\n",
    "output_bar2 = Output()\n",
    "output_death = Output()\n",
    "\n",
    "# Function to create the first barchart\n",
    "def bar_plot_causes(selected_years):\n",
    "    causes = df[df['Year'].between(selected_years[0], selected_years[1])].groupby(by=['MainCause']).size().reset_index(name='counts')\n",
    "    causes = causes.sort_values(['counts'], ascending=False)[:10]\n",
    "    fig = px.bar(data_frame=causes, y='MainCause', x='counts')\n",
    "    return fig\n",
    "\n",
    "# Function to create the second barchart\n",
    "def bar_plot_causes2(selected_years):\n",
    "    countries = df[df[\"Year\"].between(selected_years[0], selected_years[1])].groupby(by=[\"Country\"])[\"Dead\"].sum().reset_index(name=\"counts\")\n",
    "    countries = countries.sort_values(['counts'],ascending=False)[:10]\n",
    "    fig = px.bar(data_frame=countries, x=\"Country\", y=\"counts\")\n",
    "    return fig\n",
    "\n",
    "# Function to create the geo plot\n",
    "def geo_plot(selected_years):\n",
    "    fig = px.scatter_geo(\n",
    "        df[df['Year'].between(selected_years[0], selected_years[1])],\n",
    "        lat='lat',\n",
    "        lon='long',\n",
    "        hover_name='Country',\n",
    "        size='Dead',\n",
    "        projection='natural earth',\n",
    "    )\n",
    "    return fig\n",
    "\n",
    "# Function to calculate total deaths\n",
    "def calculate_period_death(selected_years):\n",
    "    total_death = df[df[\"Year\"].between(selected_years[0], selected_years[1])][\"Dead\"].sum()\n",
    "    return widgets.HTML(value=f'<h3>Flooding Caused <i>{total_death} Total Deaths</i> for the selected period</h3>')\n",
    "\n",
    "# Function to update plots based on the selected year range\n",
    "def update_plots(change):\n",
    "    selected_years = change['new']\n",
    "    \n",
    "    with output_geo:\n",
    "        output_geo.clear_output(wait=True)\n",
    "        display(geo_plot(selected_years))\n",
    "\n",
    "    with output_bar1:\n",
    "        output_bar1.clear_output(wait=True)\n",
    "        display(bar_plot_causes(selected_years))\n",
    "\n",
    "    with output_bar2:\n",
    "        output_bar2.clear_output(wait=True)\n",
    "        fig = bar_plot_causes2(selected_years)\n",
    "        fig.show()\n",
    "\n",
    "    with output_death:\n",
    "        output_death.clear_output(wait=True)\n",
    "        display(calculate_period_death(selected_years))\n",
    "\n",
    "# Attach the update_plots function to the widget's value change event\n",
    "year_widget1.observe(update_plots, names='value')\n",
    "\n",
    "# Initial display of plots\n",
    "display(HTML(html_content1))\n",
    "display(year_widget1)\n",
    "display(VBox([HBox([output_geo, output_bar1]), HBox([output_bar2, output_death])]))\n",
    "#display(output_geo)\n",
    "#display(output_bar1)\n",
    "#display(output_bar2)\n",
    "#display(output_death)\n",
    "display(HTML(html_content2))\n",
    "#update_plots({'new': year_widget1.value})\n"
   ]
  }
 ],
 "metadata": {
  "kernelspec": {
   "display_name": "Python 3 (ipykernel)",
   "language": "python",
   "name": "python3"
  },
  "language_info": {
   "codemirror_mode": {
    "name": "ipython",
    "version": 3
   },
   "file_extension": ".py",
   "mimetype": "text/x-python",
   "name": "python",
   "nbconvert_exporter": "python",
   "pygments_lexer": "ipython3",
   "version": "3.11.5"
  }
 },
 "nbformat": 4,
 "nbformat_minor": 5
}
